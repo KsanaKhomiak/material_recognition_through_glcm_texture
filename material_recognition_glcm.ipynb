{
 "cells": [
  {
   "cell_type": "code",
   "execution_count": null,
   "metadata": {},
   "outputs": [],
   "source": [
    "from __future__ import print_function\n",
    "import cv2\n",
    "import matplotlib.pyplot as plt\n",
    "from matplotlib.ticker import (MultipleLocator)\n",
    "from skimage.feature import graycomatrix, graycoprops"
   ]
  },
  {
   "cell_type": "code",
   "execution_count": null,
   "metadata": {},
   "outputs": [],
   "source": [
    "video = cv2.VideoCapture(r'.\\input_data\\drillcore(30-32m).mp4')"
   ]
  },
  {
   "attachments": {},
   "cell_type": "markdown",
   "metadata": {},
   "source": [
    "Extract frame, frame timestamp and its texture features:"
   ]
  },
  {
   "cell_type": "code",
   "execution_count": null,
   "metadata": {},
   "outputs": [],
   "source": [
    "distance = 5\n",
    "direction = 0\n",
    "\n",
    "timestamps = []\n",
    "glcm_correlation_features = []\n",
    "glcm_dissimilarity_features = []\n",
    "frame_no = 0\n",
    "\n",
    "while(video.isOpened()):\n",
    "    frame_exists, curr_frame = video.read()\n",
    "\n",
    "    if not frame_exists:\n",
    "        break\n",
    "\n",
    "    frame_timestamp = video.get(cv2.CAP_PROP_POS_MSEC)\n",
    "    frame_timestamp_minutes = (frame_timestamp / (1000 * 60)) % 60\n",
    "    timestamps.append(frame_timestamp_minutes)\n",
    "\n",
    "    gray_curr_frame = cv2.cvtColor(curr_frame, cv2.COLOR_RGB2GRAY)\n",
    "    frame_glcm = graycomatrix(gray_curr_frame, distances=[distance], angles=[\n",
    "        direction], levels=256, symmetric=True, normed=True)\n",
    "    frame_dissimilarity = graycoprops(frame_glcm, 'dissimilarity')\n",
    "    frame_correlation = graycoprops(frame_glcm, 'correlation')\n",
    "    glcm_correlation_features.append(frame_correlation[0, 0])\n",
    "    glcm_dissimilarity_features.append(frame_dissimilarity[0, 0])\n",
    "\n",
    "    frame_no += 1\n",
    "\n",
    "video.release()"
   ]
  },
  {
   "attachments": {},
   "cell_type": "markdown",
   "metadata": {},
   "source": [
    "Plot the Texture features distribution"
   ]
  },
  {
   "cell_type": "code",
   "execution_count": null,
   "metadata": {},
   "outputs": [],
   "source": [
    "def plot_features (feature, label):\n",
    "    ax = plt.subplots(figsize=(40,5))[1]\n",
    "    ax.plot(timestamps[:-14], feature ,color='black', markersize=3)\n",
    "    ax.set_xlabel('Frame Timestamp', fontsize=20)\n",
    "    ax.tick_params(axis='both', labelsize=20)\n",
    "    ax.set_ylabel(label, fontsize=20)\n",
    "    ax.set_facecolor('aliceblue')\n",
    "    ax.xaxis.set_minor_locator(MultipleLocator(0.5))\n",
    "    ax.tick_params(which='minor', length=8)"
   ]
  },
  {
   "cell_type": "code",
   "execution_count": null,
   "metadata": {},
   "outputs": [],
   "source": [
    "plot_features(glcm_dissimilarity_features[:-14],'GLCM Dissimilarity')\n",
    "plot_features(glcm_correlation_features[:-14],'GLCM Correlation')"
   ]
  }
 ],
 "metadata": {
  "kernelspec": {
   "display_name": "base",
   "language": "python",
   "name": "python3"
  },
  "language_info": {
   "codemirror_mode": {
    "name": "ipython",
    "version": 3
   },
   "file_extension": ".py",
   "mimetype": "text/x-python",
   "name": "python",
   "nbconvert_exporter": "python",
   "pygments_lexer": "ipython3",
   "version": "3.7.1"
  },
  "orig_nbformat": 4,
  "vscode": {
   "interpreter": {
    "hash": "9ea5627881d6f3306c1753ebdc3283029610ea96e43ea3cb4d7da165db058b1d"
   }
  }
 },
 "nbformat": 4,
 "nbformat_minor": 2
}
